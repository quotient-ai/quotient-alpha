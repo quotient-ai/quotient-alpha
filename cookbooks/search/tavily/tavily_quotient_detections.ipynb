{
 "cells": [
  {
   "cell_type": "markdown",
   "metadata": {},
   "source": [
    "# Evaluate AI Search Quality with Tavily & Quotient: A Cookbook\n",
    "\n",
    "<a target=\"_blank\" href=\"https://colab.research.google.com/github/quotient-ai/quotient-alpha/blob/main/cookbooks/search/tavily/tavily_quotient_detections.ipynb\">\n",
    " <img src=\"https://colab.research.google.com/assets/colab-badge.svg\" alt=\"Open In Colab\"/>\n",
    "</a>\n",
    "\n",
    "This cookbook walks through how we can monitor AI search results from [Tavily](https://www.tavily.com/) for hallucinations or retrieval issues using [Quotient AI](https://www.quotientai.co/).\n",
    "\n",
    "We’ll cover:\n",
    "- Performing AI-powered search using Tavily\n",
    "- Logging search results in Quotient\n",
    "- Automatically detecting hallucinations and irrelevant results with Quotient\n",
    "- Understanding common failure cases and how to fix them"
   ]
  },
  {
   "cell_type": "code",
   "execution_count": 8,
   "metadata": {},
   "outputs": [],
   "source": [
    "# !pip install -qU quotientai tavily-python tqdm json"
   ]
  },
  {
   "cell_type": "markdown",
   "metadata": {},
   "source": [
    "## Step 0: Grab your API keys\n",
    "\n",
    "We’ll use API keys from:\n",
    " - [Tavily](https://www.tavily.com/) — get your API key from the [Tavily app](https://app.tavily.com)\n",
    " - [Quotient AI](https://www.quotientai.co) — get your API key from the [Quotient AI app](https://app.quotientai.co)\n",
    " \n",
    "Both Tavily and Quotient offer generous free tiers to get started; you can check out their pricing  [here](https://www.tavily.com/#pricing) and [here](https://www.quotientai.co/pricing).\n"
   ]
  },
  {
   "cell_type": "code",
   "execution_count": 9,
   "metadata": {},
   "outputs": [],
   "source": [
    "import os\n",
    "# Set API keys:\n",
    "os.environ['TAVILY_API_KEY'] =\"tavily_api_key_here\"\n",
    "os.environ['QUOTIENT_API_KEY'] =\"quotient_api_key_here\""
   ]
  },
  {
   "cell_type": "markdown",
   "metadata": {},
   "source": [
    "## Step 1: Connect to Tavily Search and Quotient monitoring\n",
    "\n",
    "We’ll use Tavily’s API to retrieve content from the web and AI-generated answers for each query."
   ]
  },
  {
   "cell_type": "code",
   "execution_count": 10,
   "metadata": {},
   "outputs": [],
   "source": [
    "from tavily import TavilyClient\n",
    "\n",
    "tavily_client = TavilyClient(api_key=os.getenv(\"TAVILY_API_KEY\"))"
   ]
  },
  {
   "cell_type": "markdown",
   "metadata": {},
   "source": [
    "Quotient is an intelligent observability platform designed for retrieval-augmented and search-augmented AI systems.\n",
    "\n",
    "Quotient performs automated detections on two key fronts each time you send it a log:\n",
    "\n",
    "- **Hallucination:** Identifies statements in the model output that are unsupported by the retrieved documents or that contradict them. This flagging is done at the sentence level and returns a boolean indicator if any part of the answer contains a hallucination.\n",
    "\n",
    "- **Context Relevance:** Evaluates each retrieved document to determine whether it meaningfully contributed to grounding the answer. Quotient returns relevance labels for all documents, helping gauge retrieval and search quality.\n",
    "  \n",
    "These capabilities are enabled automatically when `hallucination_detection=True` is set during logger initialization.\n",
    "\n",
    "Below, we'll set up the Quotient logger, send each AI-search result for automatic evaluation, and retrieve structured logs and detections:"
   ]
  },
  {
   "cell_type": "code",
   "execution_count": 11,
   "metadata": {},
   "outputs": [],
   "source": [
    "from quotientai import QuotientAI\n",
    "\n",
    "# Initialize the Quotient SDK\n",
    "\n",
    "quotient = QuotientAI()\n",
    "\n",
    "quotient_logger = quotient.logger.init(\n",
    "    app_name = \"search-eval\", # Name your application or project\n",
    "    environment = \"test\", # Set the environment (e.g., \"dev\", \"prod\", \"staging\")\n",
    "    sample_rate = 1, # Set the sample rate for logging (0-1)\n",
    "    hallucination_detection = True, # Enable hallucination detection\n",
    "    hallucination_detection_sample_rate = 1, # Set the sample rate for  detections (0-1)\n",
    ")"
   ]
  },
  {
   "cell_type": "markdown",
   "metadata": {},
   "source": [
    "## Step 2: Get a set of example queries\n",
    "\n",
    "We’ll evaluate on a set of realistic user queries queries from the open-source [Tavily Web Eval Generator](https://github.com/Eyalbenba/tavily-web-eval-generator), covering a diverse set of topics. From each sample, we will use the `question` attribute to run a fresh search and compare the generated answer against retrieved documents."
   ]
  },
  {
   "cell_type": "code",
   "execution_count": 12,
   "metadata": {},
   "outputs": [],
   "source": [
    "import json\n",
    "\n",
    "# Load queries from file\n",
    "with open(\"search_queries.jsonl\") as f:\n",
    "    queries = [json.loads(line)[\"question\"] for line in f]"
   ]
  },
  {
   "cell_type": "markdown",
   "metadata": {},
   "source": [
    "Alternatively, you can connect Quotient to a live development or production environment and run detections automatically as data comes in — no manual setup required beyond the few-lines-of-code initial integration."
   ]
  },
  {
   "cell_type": "markdown",
   "metadata": {},
   "source": [
    "## Step 3: Query Tavily for each example query and log your results in Quotient\n",
    "\n",
    "Lets run fresh searches for a subset of examples."
   ]
  },
  {
   "cell_type": "code",
   "execution_count": 13,
   "metadata": {},
   "outputs": [
    {
     "name": "stdout",
     "output_type": "stream",
     "text": [
      "\n",
      "🧠 What is the top emerging technology in 2025 according to the article '25 New Technology Trends for 2025'?\n",
      "➡️ According to the article \"25 New Technology Trends for 2025,\" Generative AI stands as the top emerging technology for 2025. This artificial intelligence technology, which can create new content including text, images, code, and other media, leads the comprehensive list of 25 transformative technologies. Generative AI is positioned at the forefront of the AI and Machine Learning category, reflecting its significant impact across industries and its potential to revolutionize how businesses operate and how people interact with technology. The technology's prominence is underscored by its placement as the first item in multiple technology trend analyses, highlighting its critical role in shaping the technological landscape of 2025.\n",
      "📝 Logged to Quotient with log_id: 778ad299-ed49-4c60-baac-04d8168c31f0\n",
      "\n",
      "🧠 What is the name of the 105-qubit quantum processor unveiled by Alphabet?\n",
      "➡️ The name of the 105-qubit quantum processor unveiled by Alphabet is Willow. This superconducting quantum processor was unveiled by Google on December 9, 2024, and represents a significant advancement in quantum computing technology. Willow achieved a major breakthrough by demonstrating an exponential reduction in error rates as the number of qubits is increased, which is the opposite of what traditionally happens in quantum processors. The chip completed a complex computation in under five minutes that would take today's fastest supercomputers an estimated 10 septillion years to solve, marking a substantial leap forward in quantum computational capabilities compared to Google's previous quantum processors like Sycamore, which had 53 qubits.\n",
      "📝 Logged to Quotient with log_id: d57336b2-1955-4c9f-bb8f-8cd469d1cd49\n",
      "\n",
      "🧠 What is the projected market size of the global 5G market by 2026 according to the article 'Top 25 New Technology Trends in 2025' on GeeksforGeeks?\n",
      "➡️ According to the GeeksforGeeks article \"Top 25 New Technology Trends in 2025,\" the global 5G market is projected to reach $667.90 billion by 2026. This represents substantial growth with a Compound Annual Growth Rate of 122.3% throughout the forecast period from 2021-2026. The significant market expansion is primarily driven by increasing demand for enhanced internet speeds and the continuous rise in the number of connected devices across various industries and consumer applications.\n",
      "📝 Logged to Quotient with log_id: 7f6b3065-6640-4ff2-a7a3-cd5d67510e7f\n",
      "\n",
      "🧠 According to the 2025 AI Index from Stanford University’s Institute for Human-Centered Artificial Intelligence, how many notable AI models came from the United States in 2024?\n",
      "➡️ According to the 2025 AI Index from Stanford University's Institute for Human-Centered Artificial Intelligence, the United States produced 40 notable AI models in 2024. This significantly surpassed other countries, with China producing 15 notable AI models and Europe's combined total reaching only three. The United States maintained its position as the leading source of notable AI models, continuing a trend where more notable machine learning models have originated from the United States than any other country over the past decade.\n",
      "📝 Logged to Quotient with log_id: 1c934028-7ea3-412f-b662-939948b09947\n",
      "\n",
      "🧠 What is the title of the article discussing the impact of AI on business, industry, and everyday life by 2025?\n",
      "➡️ The title of the article discussing the impact of AI on business, industry, and everyday life by 2025 is \"AI in 2025: How Artificial Intelligence Will Shape Business, Industry, and Everyday Life\" published by EE Times. This article explores how AI will redefine business operations, drive industry innovation, and transform individual experiences with technology through its integration with IoT, robotics, and cloud computing systems, while emphasizing the importance of creating scalable, ethical, and secure AI frameworks for engineers and system designers.\n",
      "📝 Logged to Quotient with log_id: 42514422-0982-4025-acf2-9465ffb9d69a\n",
      "\n",
      "🧠 When did the Morgan Stanley Technology, Media & Telecom Conference take place in 2025?\n",
      "➡️ The Morgan Stanley Technology, Media & Telecom Conference took place over multiple days in March 2025, running from March 3rd through March 6th in San Francisco, California. Different companies participated on different dates throughout the conference, with IBM presenting on March 3rd at 6:20 PM ET, Teradata on March 4th at 9:15 AM PT, BlackLine and Partech on March 5th, and SPS Commerce concluding the conference on March 6th at 11:30 AM EST.\n",
      "📝 Logged to Quotient with log_id: 05a73c9a-2efb-4152-8f89-21bbdab29a41\n",
      "\n",
      "🧠 Who were awarded the Nobel Prize for chemistry in October 2024 for their work on AI-related protein folding tools?\n",
      "➡️ The 2024 Nobel Prize in Chemistry was awarded to three scientists for their groundbreaking work on AI-related protein folding tools: David Baker from the University of Washington and Howard Hughes Medical Institute received half of the prize for computational protein design, while Demis Hassabis and John Jumper from Google DeepMind in London shared the other half for protein structure prediction through their development of AlphaFold, a game-changing AI tool that solved the 50-year-old problem of predicting proteins' complex 3D structures. Baker's work focused on designing entirely new proteins from scratch using AI-based methods, including a technique called \"family-wide hallucination,\" while Hassabis and Jumper's AlphaFold represents the first time a scientific breakthrough enabled by artificial intelligence has been recognized with a Nobel Prize, marking a revolutionary moment where the marriage of biology and algorithms transformed our understanding of life's molecular machinery.\n",
      "📝 Logged to Quotient with log_id: 58e30297-e50f-48f2-9fa2-2f8989c7ad4c\n",
      "\n",
      "🧠 What is the expected clean energy technology spending in 2025 according to the 'Top Cleantech Trends for 2025' report by S&P Global?\n",
      "➡️ According to the 'Top Cleantech Trends for 2025' report by S&P Global Commodity Insights, clean energy technology spending is expected to reach $670 billion in 2025. This represents a historic milestone as it marks the first time that cleantech energy supply investments will surpass upstream oil and gas spending. The investments encompass renewable power generation, green hydrogen production, and carbon capture and storage (CCS) technologies. Solar photovoltaic technology is projected to dominate this spending, accounting for approximately half of all cleantech investments and two-thirds of the total installed megawatts capacity added in 2025.\n",
      "📝 Logged to Quotient with log_id: 94c49a34-b8d5-412d-9c51-747122babc8b\n",
      "\n",
      "🧠 According to the article '4 key trends to watch in clean energy technology in 2025', by how much did the cost of lithium-ion batteries fall in 2024?\n",
      "➡️ According to the article '4 key trends to watch in clean energy technology in 2025', the cost of lithium-ion batteries fell 40% in 2024 alone. This significant decline was part of a broader trend that has seen lithium-ion battery costs drop more than 90% over the last decade, with rapid cost reduction being a major driver of growth in energy storage technology and making project economics increasingly attractive for clean energy applications.\n",
      "📝 Logged to Quotient with log_id: 1a5f2aad-9cd2-47c6-93c1-1ae3e41c7b03\n",
      "\n",
      "🧠 According to the 2025 Renewable Energy Industry Outlook by Deloitte, what was the percentage increase in utility-scale solar capacity additions in the United States between January and August 2023 compared to the same period in 2022?\n",
      "➡️ The retrieved data does not contain the specific percentage increase in utility-scale solar capacity additions between January and August 2023 compared to the same period in 2022 as referenced in the 2025 Renewable Energy Industry Outlook by Deloitte. While the data shows that utility-scale solar installations in 2023 grew by 86 percent compared to 2022 overall, and that solar capacity additions jumped 88% to 18.6 gigawatts in a referenced period, these figures appear to represent full-year comparisons rather than the specific January-August timeframe requested. The Deloitte report mentions analysis of Federal Energy Regulatory Commission data for capacity growth periods, but the exact percentage increase for the January-August 2023 versus January-August 2022 comparison is not explicitly stated in the available information.\n",
      "📝 Logged to Quotient with log_id: c856efc2-fb9d-46bf-8fb6-4d2a3f458da7\n"
     ]
    }
   ],
   "source": [
    "from tqdm import tqdm\n",
    "\n",
    "tavily_results = []\n",
    "log_ids = []\n",
    "\n",
    "num_results = 10\n",
    "\n",
    "for query in queries[:num_results]:\n",
    "\n",
    "    response = tavily_client.search(\n",
    "        query = query, \n",
    "        include_answer = 'advanced',\n",
    "        search_depth = 'advanced',\n",
    "        include_raw_content = True\n",
    "    )\n",
    "\n",
    "    print(f\"\\n🧠 {query}\\n➡️ {response['answer']}\")\n",
    "\n",
    "    log_id = quotient_logger.log(user_query=query, \n",
    "                        model_output=response['answer'], \n",
    "                        # Send the *raw content* of retrieved documents for grounding checks\n",
    "                        documents=[str(doc) for doc in response['results']],\n",
    "                        )\n",
    "    \n",
    "    print(f\"📝 Logged to Quotient with log_id: {log_id}\")\n",
    "    \n",
    "    log_ids.append(log_id)"
   ]
  },
  {
   "cell_type": "markdown",
   "metadata": {},
   "source": [
    "### How It Works\n",
    "\n",
    "When `.log()` is called:\n",
    "\n",
    "1. **Data ingestion:** The query, model output, and all retrieved document contents are logged to Quotient.\n",
    "\n",
    "2. **Async detection pipeline:** Quotient runs:\n",
    "- **Hallucination detection**, labeling the output as hallucinated or not.\n",
    "- **Document relevance scoring**, marking which retrieved documents helped ground the output \n",
    "\n",
    "3. **Result retrieval:** You can poll or fetch detections linked to your `log_id`.\n",
    "\n",
    "4. **Monitor and troubleshoot in the Quotient app:** Access the [Quotient dashboard](app.quotientai.co) to:\n",
    "- Monitor you AI system over time\n",
    "- Review flagged hallucinated sentences.\n",
    "- See which documents were irrelevant.\n",
    "- Compare across tags or environments for deeper insights.\n",
    "\n",
    "For full implementation details, visit the Quotient [docs](https://docs.quotientai.co/).\n"
   ]
  },
  {
   "cell_type": "markdown",
   "metadata": {},
   "source": [
    "# Step 4: Review detections in Quotient\n",
    "\n",
    "You can now view your logs and detections in the [Quotient dashboard](app.quotientai.co), where you can also filter them by tags and environments to identify common failure patterns.\n",
    "\n",
    "![Quotient AI Dashboard](Quotient_Dashboard.png \"Quotient AI Dashboard\")\n"
   ]
  },
  {
   "cell_type": "markdown",
   "metadata": {},
   "source": [
    "## What You’ve Built\n",
    "\n",
    "A lightweight search and monitoring pipeline that:\n",
    "- Runs live AI search queries\n",
    "- Automatically checks if answers are grounded in retrieved evidence\n",
    "- Flags hallucinations and irrelevant retrievals\n",
    "\n",
    "You can scale this to monitor production traffic, benchmark retrieval and search performance, or compare different models side by side."
   ]
  },
  {
   "cell_type": "markdown",
   "metadata": {},
   "source": [
    "## How to interpret the results\n",
    "- Well-grounded systems typically show **< 5% hallucination rate**. If yours is higher, it’s often a signal that either your data ingestion, retrieval pipeline, or prompting needs improvement.\n",
    "\n",
    "- High-performing systems typically show **> 75% document relevance**. Lower scores may signal ambiguous user queries, incorrect retrieval, or noisy source data.\n"
   ]
  },
  {
   "cell_type": "markdown",
   "metadata": {},
   "source": [
    "# (Optional) Grab the detection restults from Quotient\n",
    "\n",
    "Quotient's detections are now available to fetch via the Quotient SDK using the `log_id` you received earlier:"
   ]
  },
  {
   "cell_type": "code",
   "execution_count": 14,
   "metadata": {},
   "outputs": [
    {
     "name": "stderr",
     "output_type": "stream",
     "text": [
      "100%|██████████| 10/10 [01:37<00:00,  9.71s/it]"
     ]
    },
    {
     "name": "stdout",
     "output_type": "stream",
     "text": [
      "Number of results: 10\n",
      "Percentage of hallucinations: 25.00%\n",
      "Average percentage of relevant document: 90.00%\n"
     ]
    },
    {
     "name": "stderr",
     "output_type": "stream",
     "text": [
      "\n"
     ]
    }
   ],
   "source": [
    "hallucination_detections = []\n",
    "doc_relevancy_detections = []\n",
    "\n",
    "for id in tqdm(log_ids):\n",
    "\n",
    "    try:\n",
    "        detection = quotient_logger.poll_for_detection(log_id = id)\n",
    "        # Add the hallucination detection to the results_df\n",
    "        hallucination_detections.append(detection.has_hallucination)\n",
    "        # Add the document relevancy detection to the results_df\n",
    "        docs = detection.log_documents\n",
    "        doc_relevancy_detections.append(sum(1 for doc in docs if doc.get('is_relevant') is True) / len(docs) if docs else None)\n",
    "\n",
    "    except:\n",
    "        continue\n",
    "\n",
    "print(f\"Number of results: {len(log_ids)}\")\n",
    "print(f\"Percentage of hallucinations: {sum(hallucination_detections)/len(hallucination_detections)*100:.2f}%\")\n",
    "print(f\"Average percentage of relevant document: {sum(doc_relevancy_detections)/len(doc_relevancy_detections)*100:.2f}%\")"
   ]
  }
 ],
 "metadata": {
  "kernelspec": {
   "display_name": "tavily-quotient-eval",
   "language": "python",
   "name": "python3"
  },
  "language_info": {
   "codemirror_mode": {
    "name": "ipython",
    "version": 3
   },
   "file_extension": ".py",
   "mimetype": "text/x-python",
   "name": "python",
   "nbconvert_exporter": "python",
   "pygments_lexer": "ipython3",
   "version": "3.10.17"
  }
 },
 "nbformat": 4,
 "nbformat_minor": 2
}
